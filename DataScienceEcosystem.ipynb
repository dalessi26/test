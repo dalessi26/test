{
 "cells": [
  {
   "cell_type": "markdown",
   "id": "88d7839d-33d0-4919-b271-6b807a5df1d2",
   "metadata": {},
   "source": [
    "# Data Science Tools and Ecosystem"
   ]
  },
  {
   "cell_type": "markdown",
   "id": "4bed55f9-9c89-44c7-9adb-b9f0b5ff46a7",
   "metadata": {},
   "source": [
    "In this notebook, Data Science Tools and Ecosystem are summarized."
   ]
  },
  {
   "cell_type": "markdown",
   "id": "61ab638b-c928-4dd1-a446-70dc25b662e0",
   "metadata": {},
   "source": [
    "**Objectives:**"
   ]
  },
  {
   "cell_type": "markdown",
   "id": "fecc3807-8ff2-463b-b35d-305a987df981",
   "metadata": {},
   "source": [
    "+ List popular languages for Data Science\n",
    "+ List popular libraries for Data Science\n",
    "+ List popular tools for Data Science\n",
    "+ Creating simple arithmetic expression"
   ]
  },
  {
   "cell_type": "markdown",
   "id": "f9428b65-cc9b-46dc-ba03-299645262b27",
   "metadata": {},
   "source": [
    "Some of the popular languages that Data Scientists use are:\n",
    "\n",
    "1. Python\n",
    "2. SQL\n",
    "3. R\n"
   ]
  },
  {
   "cell_type": "markdown",
   "id": "4e78729e-262d-4dcf-a1ab-abf5e8ff539a",
   "metadata": {},
   "source": [
    "Some of the commonly used libraries used by Data Scientists include:\n",
    "\n",
    "1. Numpy\n",
    "2. Ggplot\n",
    "3. Pandas"
   ]
  },
  {
   "cell_type": "markdown",
   "id": "237b7067-8ea6-4fc5-b903-3e00ecbd64b8",
   "metadata": {
    "tags": []
   },
   "source": [
    "Data Science Tools | \n",
    "-------------------\n",
    "Github\n",
    "Apache\n",
    "TensorFlow\n"
   ]
  },
  {
   "cell_type": "markdown",
   "id": "4e78e6cd-85c8-4b1e-bdc2-a6e6b12604c7",
   "metadata": {},
   "source": [
    "Below are a few examples of evaluating arithmetic expressions in Python"
   ]
  },
  {
   "cell_type": "code",
   "execution_count": 11,
   "id": "1fcdaebf-d76c-453f-be56-25cc5e78022b",
   "metadata": {
    "tags": []
   },
   "outputs": [
    {
     "data": {
      "text/plain": [
       "17"
      ]
     },
     "execution_count": 11,
     "metadata": {},
     "output_type": "execute_result"
    }
   ],
   "source": [
    "# This a simple arithmetic expression to mutiply then add integers\n",
    "(3*4)+5"
   ]
  },
  {
   "cell_type": "code",
   "execution_count": 19,
   "id": "27aaecd5-e189-48fa-994b-e881f984673e",
   "metadata": {
    "tags": []
   },
   "outputs": [
    {
     "data": {
      "text/plain": [
       "3.3333333333333335"
      ]
     },
     "execution_count": 19,
     "metadata": {},
     "output_type": "execute_result"
    }
   ],
   "source": [
    "# This will convert 200 minutes to hours by diving by 60\n",
    "x = 200\n",
    "hours_calc = x / 60\n",
    "hours_calc"
   ]
  },
  {
   "cell_type": "markdown",
   "id": "177eb9e3-97f6-430a-a20d-67ba7c1d9b4d",
   "metadata": {},
   "source": [
    "## Author"
   ]
  },
  {
   "cell_type": "markdown",
   "id": "7ff5ab61-03bb-40e1-9137-fcc5fe17313e",
   "metadata": {},
   "source": [
    "Daniel Alessi"
   ]
  }
 ],
 "metadata": {
  "kernelspec": {
   "display_name": "Python",
   "language": "python",
   "name": "conda-env-python-py"
  },
  "language_info": {
   "codemirror_mode": {
    "name": "ipython",
    "version": 3
   },
   "file_extension": ".py",
   "mimetype": "text/x-python",
   "name": "python",
   "nbconvert_exporter": "python",
   "pygments_lexer": "ipython3",
   "version": "3.7.12"
  }
 },
 "nbformat": 4,
 "nbformat_minor": 5
}
